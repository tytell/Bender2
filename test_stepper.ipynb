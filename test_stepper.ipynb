{
 "cells": [
  {
   "cell_type": "code",
   "execution_count": 24,
   "metadata": {
    "collapsed": true
   },
   "outputs": [],
   "source": [
    "import numpy as np\n",
    "from scipy import interpolate\n",
    "import time\n",
    "import logging\n",
    "import matplotlib.pyplot as plt\n",
    "\n",
    "%matplotlib inline"
   ]
  },
  {
   "cell_type": "code",
   "execution_count": 4,
   "metadata": {},
   "outputs": [],
   "source": [
    "infreq = 1000.0\n",
    "outfreq = 100000.0"
   ]
  },
  {
   "cell_type": "code",
   "execution_count": 30,
   "metadata": {},
   "outputs": [],
   "source": [
    "freq = 1.5\n",
    "cycles = 20\n",
    "dur = cycles/freq"
   ]
  },
  {
   "cell_type": "code",
   "execution_count": 36,
   "metadata": {},
   "outputs": [],
   "source": [
    "tin = np.arange(0,dur, 1/infreq) - 1.0\n",
    "pos = 15.0 * np.sin(2*np.pi*freq*tin)\n",
    "vel = 15.0 * 2*np.pi * freq * np.cos(2*np.pi*freq*tin)\n",
    "\n",
    "pos[tin < 0] = 0\n",
    "vel[tin < 0] = 0"
   ]
  },
  {
   "cell_type": "code",
   "execution_count": 32,
   "metadata": {},
   "outputs": [],
   "source": [
    "stepsperrev = 6400.0"
   ]
  },
  {
   "cell_type": "code",
   "execution_count": 45,
   "metadata": {},
   "outputs": [],
   "source": [
    "tout = np.arange(tin[0], tin[-1], 1/outfreq)"
   ]
  },
  {
   "cell_type": "code",
   "execution_count": 46,
   "metadata": {},
   "outputs": [
    {
     "data": {
      "image/png": "[encoded data removed]",
      "text/plain": [
       "<matplotlib.figure.Figure at 0x19386128>"
      ]
     },
     "metadata": {},
     "output_type": "display_data"
    }
   ],
   "source": [
    "plt.plot(tin, pos)\n",
    "plt.show()"
   ]
  },
  {
   "cell_type": "code",
   "execution_count": 58,
   "metadata": {},
   "outputs": [],
   "source": [
    "def make_motor_stepper_pulses(t, pos, vel, tout, outsampfreq, stepsperrev):\n",
    "    poshi = interpolate.interp1d(t, pos, kind='linear', assume_sorted=True, bounds_error=False,\n",
    "                                 fill_value=0.0)(tout)\n",
    "    velhi = interpolate.interp1d(t, vel, kind='linear', assume_sorted=True, bounds_error=False,\n",
    "                                 fill_value=0.0)(tout)\n",
    "\n",
    "    stepsize = 360.0 / stepsperrev\n",
    "    maxspeed = stepsize * outsampfreq / 2\n",
    "\n",
    "    if np.any(np.abs(vel) > maxspeed):\n",
    "        raise ValueError('Motion is too fast!')\n",
    "\n",
    "    starttime = time.time()\n",
    "    stepnum = np.floor(poshi/stepsize)\n",
    "    dstep = np.diff(stepnum)\n",
    "    motorstep2 = np.concatenate((np.array([0], dtype='uint8'), (dstep != 0).astype('uint8')))\n",
    "    motordirection2 = (velhi <= 0).astype('uint8')\n",
    "    elapsed = time.time() - starttime\n",
    "    print 'stepper0 elapsed: %f' % elapsed\n",
    "    \n",
    "    starttime = time.time()\n",
    "\n",
    "    motorstep = np.zeros_like(tout, dtype=np.uint8)\n",
    "    motordirection = np.zeros_like(tout, dtype=np.uint8)\n",
    "    curpos = pos[0]\n",
    "    for i, cmdpos in enumerate(poshi[2:], start=1):\n",
    "        motordirection[i] = motordirection[i-1]\n",
    "        if motorstep[i-1] == 1:\n",
    "            # can't step twice in a row\n",
    "            continue\n",
    "        elif cmdpos - curpos >= stepsize:\n",
    "            motorstep[i] = 1\n",
    "            motordirection[i] = 0\n",
    "            curpos += stepsize\n",
    "        elif cmdpos - curpos <= -stepsize:\n",
    "            motorstep[i] = 1\n",
    "            motordirection[i] = 1\n",
    "            curpos -= stepsize\n",
    "\n",
    "    elapsed = time.time() - starttime\n",
    "    print 'stepper elapsed: %f' % elapsed\n",
    "\n",
    "    motorenable = np.ones_like(motordirection)\n",
    "    motorenable[-5:] = 0\n",
    "\n",
    "    return motorstep, motordirection, motorstep2, motordirection2"
   ]
  },
  {
   "cell_type": "code",
   "execution_count": 59,
   "metadata": {},
   "outputs": [
    {
     "name": "stdout",
     "output_type": "stream",
     "text": [
      "stepper0 elapsed: 0.021000\nstepper elapsed: 3.709000"
     ]
    },
    {
     "name": "stdout",
     "output_type": "stream",
     "text": [
      "\n"
     ]
    }
   ],
   "source": [
    "step, direc, step2, direc2 = make_motor_stepper_pulses(tin, pos, vel, tout, outfreq, stepsperrev)"
   ]
  },
  {
   "cell_type": "code",
   "execution_count": 48,
   "metadata": {},
   "outputs": [
    {
     "data": {
      "text/plain": [
       "(1333300L,)"
      ]
     },
     "execution_count": 48,
     "metadata": {},
     "output_type": "execute_result"
    }
   ],
   "source": [
    "step.shape"
   ]
  },
  {
   "cell_type": "code",
   "execution_count": 51,
   "metadata": {},
   "outputs": [
    {
     "data": {
      "text/plain": [
       "[array([0, 0, 0, 0, 0, 0, 0, 0, 0, 0, 0, 0, 0, 0, 0, 0, 0, 0, 0, 0, 0, 0, 0,\n        0, 0, 0, 0, 0, 0, 0, 0, 0, 0, 0, 0, 0, 0, 0, 0, 1, 0, 0, 0, 0, 0, 0,\n        0, 0, 0, 0, 0, 0, 0, 0, 0, 0, 0, 0, 0, 0, 0, 0, 0, 0, 0, 0, 0, 0, 0,\n        0, 0, 0, 0, 0, 0, 0, 0, 0, 0, 1, 0, 0, 0, 0, 0, 0, 0, 0, 0, 0, 0, 0,\n        0, 0, 0, 0, 0, 0, 0, 0], dtype=uint8),\n array([0, 0, 0, 0, 0, 0, 0, 0, 0, 0, 0, 0, 0, 0, 0, 0, 0, 0, 0, 0, 0, 0, 0,\n        0, 0, 0, 0, 0, 0, 0, 0, 0, 0, 0, 0, 0, 0, 0, 0, 0, 1, 0, 0, 0, 0, 0,\n        0, 0, 0, 0, 0, 0, 0, 0, 0, 0, 0, 0, 0, 0, 0, 0, 0, 0, 0, 0, 0, 0, 0,\n        0, 0, 0, 0, 0, 0, 0, 0, 0, 0, 0, 1, 0, 0, 0, 0, 0, 0, 0, 0, 0, 0, 0,\n        0, 0, 0, 0, 0, 0, 0, 0], dtype=uint8)]"
      ]
     },
     "execution_count": 51,
     "metadata": {},
     "output_type": "execute_result"
    }
   ],
   "source": [
    "[step[100000:100100], step2[100000:100100]]"
   ]
  },
  {
   "cell_type": "code",
   "execution_count": 57,
   "metadata": {},
   "outputs": [
    {
     "data": {
      "text/plain": [
       "37"
      ]
     },
     "execution_count": 57,
     "metadata": {},
     "output_type": "execute_result"
    }
   ],
   "source": [
    "np.sum(step[0:-1] != step2[1:])"
   ]
  },
  {
   "cell_type": "code",
   "execution_count": null,
   "metadata": {},
   "outputs": [],
   "source": [
    ""
   ]
  }
 ],
 "metadata": {
  "kernelspec": {
   "display_name": "Python 2",
   "language": "python",
   "name": "python2"
  },
  "language_info": {
   "codemirror_mode": {
    "name": "ipython",
    "version": 2.0
   },
   "file_extension": ".py",
   "mimetype": "text/x-python",
   "name": "python",
   "nbconvert_exporter": "python",
   "pygments_lexer": "ipython2",
   "version": "2.7.6"
  }
 },
 "nbformat": 4,
 "nbformat_minor": 0
}